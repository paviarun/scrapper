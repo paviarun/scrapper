{
 "cells": [
  {
   "cell_type": "code",
   "execution_count": null,
   "metadata": {},
   "outputs": [],
   "source": [
    "import requests\n",
    "from bs4 import BeautifulSoup\n",
    "import urllib.request,sys,time"
   ]
  },
  {
   "cell_type": "code",
   "execution_count": null,
   "metadata": {},
   "outputs": [],
   "source": [
    "\n",
    "URL = f\"https://www.gnani.ai/solutions/customer-service/bill-payment-bots/\"\n",
    "page = requests.get(URL)"
   ]
  },
  {
   "cell_type": "code",
   "execution_count": null,
   "metadata": {},
   "outputs": [],
   "source": [
    "soup = BeautifulSoup(page.content, 'lxml')"
   ]
  },
  {
   "cell_type": "code",
   "execution_count": null,
   "metadata": {},
   "outputs": [],
   "source": [
    "soup.find_all('a')"
   ]
  },
  {
   "cell_type": "code",
   "execution_count": null,
   "metadata": {},
   "outputs": [],
   "source": [
    "results = []\n",
    "for g in soup.find_all('div', class_='kCrYT'):\n",
    "    anchors = g.find_all('a')\n",
    "    if anchors:\n",
    "        link = anchors[0]['href']\n",
    "        title = g.find('h3').text\n",
    "        item = {\n",
    "            \"title\": title,\n",
    "            \"link\": link\n",
    "        }\n",
    "        results.append(item)\n",
    "print(results)"
   ]
  },
  {
   "cell_type": "code",
   "execution_count": null,
   "metadata": {},
   "outputs": [],
   "source": [
    "soup.find_all(class_='g')"
   ]
  },
  {
   "cell_type": "code",
   "execution_count": null,
   "metadata": {},
   "outputs": [],
   "source": [
    "lik=soup.find_all('a')\n",
    "for name in lik:\n",
    "    print(name.get('href'))"
   ]
  },
  {
   "cell_type": "code",
   "execution_count": null,
   "metadata": {},
   "outputs": [],
   "source": [
    "lik=soup.find_all('a')\n",
    "for name in lik:\n",
    "    print(name.get('href'))"
   ]
  },
  {
   "cell_type": "code",
   "execution_count": null,
   "metadata": {},
   "outputs": [],
   "source": [
    "for a in soup.select('.entries a'):\n",
    "    print('{:<30} {}'.format(a.text, 'https://www.gnani.ai' + a['href']))"
   ]
  },
  {
   "cell_type": "code",
   "execution_count": null,
   "metadata": {},
   "outputs": [],
   "source": [
    "tt=[]\n",
    "for te in soup.find_all(['li','p','blockquote']):\n",
    "    #if te.a:\n",
    "     #   print(te.a.get('href'),\"\\n\\n\")\n",
    "   # print(te.a.get('href'))\n",
    "    tt.append(te.text+\".\")"
   ]
  },
  {
   "cell_type": "code",
   "execution_count": null,
   "metadata": {},
   "outputs": [],
   "source": [
    "tt"
   ]
  },
  {
   "cell_type": "code",
   "execution_count": null,
   "metadata": {},
   "outputs": [],
   "source": [
    "df_text=pd.DataFrame(data=tt)\n",
    "df_text.to_excel(\"scrap_gnai.xlsx\")"
   ]
  },
  {
   "cell_type": "code",
   "execution_count": null,
   "metadata": {},
   "outputs": [],
   "source": [
    "soup.find_all('cite')"
   ]
  },
  {
   "cell_type": "code",
   "execution_count": null,
   "metadata": {},
   "outputs": [],
   "source": [
    "from gensim.summarization.summarizer import summarize "
   ]
  },
  {
   "cell_type": "code",
   "execution_count": null,
   "metadata": {},
   "outputs": [],
   "source": [
    "summarize(\" \".join(tt),ratio=.031)"
   ]
  },
  {
   "cell_type": "code",
   "execution_count": null,
   "metadata": {},
   "outputs": [],
   "source": [
    "import numpy as np"
   ]
  },
  {
   "cell_type": "code",
   "execution_count": null,
   "metadata": {},
   "outputs": [],
   "source": [
    "list_paragraphs = []\n",
    "for p in np.arange(0, len(x)):\n",
    "    paragraph = x[p].get_text()\n",
    "    print(paragraph)\n",
    "    list_paragraphs.append(paragraph)\n"
   ]
  },
  {
   "cell_type": "code",
   "execution_count": null,
   "metadata": {},
   "outputs": [],
   "source": [
    "list_paragraphs = []\n",
    "final=[]\n",
    "for bo in range (0,len(body)):\n",
    "    \n",
    "    final_article=\"\"\n",
    "    x = body[bo].find_all('p')\n",
    "    for p in np.arange(0, len(x)):\n",
    "        paragraph = x[p].get_text()\n",
    "        list_paragraphs.append(paragraph)\n",
    "    final_article = \" \".join(list_paragraphs)\n",
    "    final.append(\" \".join(list_paragraphs))"
   ]
  },
  {
   "cell_type": "code",
   "execution_count": null,
   "metadata": {},
   "outputs": [],
   "source": [
    "soup.prettify()"
   ]
  },
  {
   "cell_type": "markdown",
   "metadata": {},
   "source": [
    "# Scrapy"
   ]
  },
  {
   "cell_type": "code",
   "execution_count": null,
   "metadata": {},
   "outputs": [],
   "source": [
    "!pip install scrapy"
   ]
  },
  {
   "cell_type": "code",
   "execution_count": null,
   "metadata": {},
   "outputs": [],
   "source": [
    "import pandas as pd"
   ]
  },
  {
   "cell_type": "code",
   "execution_count": null,
   "metadata": {},
   "outputs": [],
   "source": [
    "df=pd.read_csv(\"Book1.csv\")"
   ]
  },
  {
   "cell_type": "markdown",
   "metadata": {},
   "source": [
    "# Article lib"
   ]
  },
  {
   "cell_type": "code",
   "execution_count": null,
   "metadata": {},
   "outputs": [],
   "source": [
    "from newspaper import Article"
   ]
  },
  {
   "cell_type": "code",
   "execution_count": null,
   "metadata": {},
   "outputs": [],
   "source": [
    "url_List"
   ]
  },
  {
   "cell_type": "code",
   "execution_count": null,
   "metadata": {},
   "outputs": [],
   "source": [
    "import pandas as pd\n",
    "df_text=pd.DataFrame()\n",
    "text_list=[]"
   ]
  },
  {
   "cell_type": "code",
   "execution_count": null,
   "metadata": {},
   "outputs": [],
   "source": [
    "article = Article(url,language=\"en\")"
   ]
  },
  {
   "cell_type": "code",
   "execution_count": null,
   "metadata": {},
   "outputs": [],
   "source": [
    "for url in url_List:\n",
    "    url=url\n",
    "    #print(url)\n",
    "    article = Article(url,language=\"en\")\n",
    "   # print(article.is_parsed)\n",
    "    #print(status)\n",
    "    try:\n",
    "        article.download()\n",
    "       # print(\"\\n\\nin\",url)\n",
    "        article.parse()\n",
    "        text=article.text\n",
    "        text_list.append({text,url})\n",
    "    except (OSError,Exception) as e:\n",
    "        text=e\n",
    "        text_list.append(text)\n",
    "        #response = jsonify({\"Error\":'{}: {}'.format(type(e).__name__, e)})\n",
    "        print(url,e)"
   ]
  },
  {
   "cell_type": "code",
   "execution_count": null,
   "metadata": {},
   "outputs": [],
   "source": [
    "df_text=pd.DataFrame(data=text_list)"
   ]
  },
  {
   "cell_type": "code",
   "execution_count": null,
   "metadata": {},
   "outputs": [],
   "source": [
    "df_text.to_excel(\"Extracted_slanglabs_scapped.xlsx\")"
   ]
  },
  {
   "cell_type": "code",
   "execution_count": null,
   "metadata": {},
   "outputs": [],
   "source": [
    "url ='https://www.gnani.ai/solutions/customer-service/bill-payment-bots/'"
   ]
  },
  {
   "cell_type": "code",
   "execution_count": null,
   "metadata": {},
   "outputs": [],
   "source": [
    "article = Article(url,language=\"en\")"
   ]
  },
  {
   "cell_type": "code",
   "execution_count": null,
   "metadata": {},
   "outputs": [],
   "source": [
    "article.top_node"
   ]
  },
  {
   "cell_type": "code",
   "execution_count": null,
   "metadata": {},
   "outputs": [],
   "source": [
    "article.download()"
   ]
  },
  {
   "cell_type": "code",
   "execution_count": null,
   "metadata": {},
   "outputs": [],
   "source": [
    "article.parse()"
   ]
  },
  {
   "cell_type": "code",
   "execution_count": null,
   "metadata": {},
   "outputs": [],
   "source": [
    "if not article.is_parsed:\n",
    "    print(\"no\")"
   ]
  },
  {
   "cell_type": "code",
   "execution_count": null,
   "metadata": {},
   "outputs": [],
   "source": [
    "print(article.text)"
   ]
  },
  {
   "cell_type": "code",
   "execution_count": null,
   "metadata": {},
   "outputs": [],
   "source": [
    "article.nlp()"
   ]
  },
  {
   "cell_type": "code",
   "execution_count": null,
   "metadata": {},
   "outputs": [],
   "source": [
    "print(article.keywords)"
   ]
  },
  {
   "cell_type": "code",
   "execution_count": null,
   "metadata": {},
   "outputs": [],
   "source": [
    "article.title"
   ]
  },
  {
   "cell_type": "code",
   "execution_count": null,
   "metadata": {},
   "outputs": [],
   "source": [
    "article.summary"
   ]
  },
  {
   "cell_type": "code",
   "execution_count": null,
   "metadata": {},
   "outputs": [],
   "source": [
    "article.top_image"
   ]
  },
  {
   "cell_type": "code",
   "execution_count": null,
   "metadata": {},
   "outputs": [],
   "source": [
    "article.fetch_images()"
   ]
  },
  {
   "cell_type": "code",
   "execution_count": null,
   "metadata": {},
   "outputs": [],
   "source": [
    "article.set_tags()"
   ]
  },
  {
   "cell_type": "markdown",
   "metadata": {},
   "source": [
    "# Setence"
   ]
  },
  {
   "cell_type": "code",
   "execution_count": null,
   "metadata": {},
   "outputs": [],
   "source": [
    "df=pd.read_excel('AllStartup_Text.xlsx')"
   ]
  },
  {
   "cell_type": "code",
   "execution_count": null,
   "metadata": {},
   "outputs": [],
   "source": [
    "import nltk\n",
    "nltk.download('punkt')"
   ]
  },
  {
   "cell_type": "code",
   "execution_count": null,
   "metadata": {},
   "outputs": [],
   "source": [
    "All_text=[]\n",
    "for i in df['Text']:\n",
    "   \n",
    "    All_text.append(nltk. tokenize. sent_tokenize(i))"
   ]
  },
  {
   "cell_type": "code",
   "execution_count": null,
   "metadata": {},
   "outputs": [],
   "source": [
    "flat_list = [item for sublist in All_text for item in sublist]"
   ]
  },
  {
   "cell_type": "code",
   "execution_count": null,
   "metadata": {},
   "outputs": [],
   "source": [
    "df1=pd.DataFrame(flat_list)"
   ]
  },
  {
   "cell_type": "code",
   "execution_count": null,
   "metadata": {},
   "outputs": [],
   "source": [
    "df1.to_excel(\"sent.xlsx\")"
   ]
  },
  {
   "cell_type": "code",
   "execution_count": null,
   "metadata": {},
   "outputs": [],
   "source": [
    "text = \"Gnani.ai enterprise-ready auto call answering with it’s cutting edge NLP engine understands the intent and context of the callers. The ability to interactively answer complex questions delivers the right solution to the customer. This increases agents’ efficiency and helps reduce the overall cost for the company. Cognitive call/contact centers use AI technologies for Continuous Speech Recognition (CSR), Natural Language Processing (NLP), Speech Synthesis, (Text-to-Speech), Voice Biometrics, etc. Intent identification for auto call answering in customer support is critical for conversational systems. Gnani's Intent Identification engine helps ease that task by determining the intent of the caller and accomplish the specific tasks thereby providing superior customer experience*Please note that member solutions are often customizable to meet the needs of individual enterprise end users.\"\n",
    "a_list = nltk. tokenize. sent_tokenize(text)\n",
    "print(a_list)"
   ]
  },
  {
   "cell_type": "markdown",
   "metadata": {},
   "source": [
    "# Google search API"
   ]
  },
  {
   "cell_type": "code",
   "execution_count": null,
   "metadata": {},
   "outputs": [],
   "source": [
    "!pip install google"
   ]
  },
  {
   "cell_type": "code",
   "execution_count": null,
   "metadata": {},
   "outputs": [],
   "source": [
    "for i in search(query, tld=\"co.in\", stop=50, pause=2,user_agent=agent):\n",
    "    print(i)"
   ]
  },
  {
   "cell_type": "code",
   "execution_count": null,
   "metadata": {},
   "outputs": [],
   "source": [
    "from datetime import time\n",
    "datetime.now().strftime(\"%H:%M:%S\")"
   ]
  },
  {
   "cell_type": "code",
   "execution_count": null,
   "metadata": {},
   "outputs": [],
   "source": [
    "strftime()"
   ]
  },
  {
   "cell_type": "code",
   "execution_count": null,
   "metadata": {},
   "outputs": [],
   "source": [
    "\n",
    "from googlesearch import search\n",
    "import googlesearch\n",
    "# to search \n",
    "query = \"slanglabs\"\n",
    "agent=\"Mozilla/5.0 (Windows NT 10.0; Win64; x64) AppleWebKit/537.36 (KHTML, like Gecko) Chrome/76.0.3809.100 Safari/537.36\"\n",
    "links = []\n",
    "for j in search(query, tld=\"co.in\", stop=50, pause=10,user_agent=agent): \n",
    "    links.append(j) \n",
    "    print(j)"
   ]
  },
  {
   "cell_type": "code",
   "execution_count": null,
   "metadata": {},
   "outputs": [],
   "source": [
    "import numpy as np"
   ]
  },
  {
   "cell_type": "code",
   "execution_count": null,
   "metadata": {},
   "outputs": [],
   "source": [
    "np.random.randint(4,20)"
   ]
  },
  {
   "cell_type": "code",
   "execution_count": null,
   "metadata": {},
   "outputs": [],
   "source": [
    "import os\n",
    "os.environ[\"HTTPS_PROXY\"] = \"http://localhost:8080\"\n",
    "\n",
    "hit=0\n",
    "links1 = []\n",
    "for hi in range(0,100):\n",
    "    wait=np.random.randint(10,15)\n",
    "    for j in search(query, tld=\"co.in\", stop=50, pause=wait,user_agent=agent): \n",
    "        links1.append(j) \n",
    "    print (wait,hit,datetime.now().strftime(\"%H:%M:%S\"))\n",
    "    hit=hit+1\n",
    "        #print(j)"
   ]
  },
  {
   "cell_type": "code",
   "execution_count": null,
   "metadata": {},
   "outputs": [],
   "source": [
    "len(links1)"
   ]
  },
  {
   "cell_type": "code",
   "execution_count": null,
   "metadata": {},
   "outputs": [],
   "source": [
    "#15:23 to 15:27\n",
    "hit\n",
    "\n",
    "#15:55 it got enabled\n",
    "\n",
    "#17:05 to 17:10\n",
    "\n",
    "#20:01 to 21:52 57 Req  pause 15-30 not interuppted 1 hr - 30 hits\n",
    "# 21:56 to 22:56 41 req Pause 15,20 not intereupted 1 hr - 40 hits\n",
    "#22:58 - 23:10          Pause 10,15 it gets interupted after 13 hits approx.\n"
   ]
  },
  {
   "cell_type": "code",
   "execution_count": null,
   "metadata": {},
   "outputs": [],
   "source": [
    "urls=[\"https://yourstory.com/\",\"https://inc42.com/\",\"https://techcrunch.com/\",\"https://entrackr.com/\",\"https://e27.co/\",\"linkedin.com\",\"medium.com\",\"https://www.techcircle.in/\",\"https://thenextweb.com/in\",\"https://www.startup-buzz.com/\",\"https://www.thestartupjournal.com/stories/\",\"https://startuptalky.com/\",\"https://www.startupurban.com/\",\"www.quora.com/\",\"https://venturebeat.com/\",\"https://www.theverge.com/tech\",\"https://www.technewsworld.com/\",\"https://www.forbes.com/\",\"https://economictimes.indiatimes.com/\",\"https://www.ogj.com/\",\"https://www.woodmac.com/\",\"https://www.livemint.com/companies/start-ups\",\"https://www.entrepreneur.com/\",\"https://www.ycombinator.com/\",\"vulcanpost.com\",\"techradar.com\",\"Bloomberg\",\"https://www.marketwatch.com/\",\"https://www.wired.com/\",\"https://readwrite.com/\",\"https://www.vox.com/recode\",\"https://www.wsj.com/\",\"https://www.forbes.com/innovation/?sh=76cb0d956834\",\"https://www.techinasia.com/\",\"https://gigaom.com/\"]"
   ]
  },
  {
   "cell_type": "code",
   "execution_count": null,
   "metadata": {},
   "outputs": [],
   "source": [
    "links1"
   ]
  },
  {
   "cell_type": "code",
   "execution_count": null,
   "metadata": {},
   "outputs": [],
   "source": [
    "if \"your\" in urls:\n",
    "    print(\"es\")"
   ]
  },
  {
   "cell_type": "code",
   "execution_count": null,
   "metadata": {},
   "outputs": [],
   "source": [
    "url_List=[]\n",
    "for re in links:\n",
    "    #print(re)\n",
    "    link=re.split(\"/\")\n",
    "    #print(link[2])\n",
    "    for url in urls:\n",
    "        if link[2] in url: \n",
    "            url_List.append(re)\n",
    "            print(re)"
   ]
  },
  {
   "cell_type": "code",
   "execution_count": null,
   "metadata": {},
   "outputs": [],
   "source": [
    "from google import search\n",
    "num_page = 3\n",
    "search_results = google.search(\"This is my query\", num_page)\n",
    "for result in search_results:\n",
    "    print(result.description)"
   ]
  },
  {
   "cell_type": "markdown",
   "metadata": {},
   "source": [
    "# Using Google API"
   ]
  },
  {
   "cell_type": "code",
   "execution_count": null,
   "metadata": {},
   "outputs": [],
   "source": [
    "!pip install google-api-python-client"
   ]
  },
  {
   "cell_type": "code",
   "execution_count": null,
   "metadata": {},
   "outputs": [],
   "source": [
    "hit=0\n",
    "for hi in range(0,100):\n",
    "    results= google_search(\"gnani.ai\",my_api_key,my_cse_id) \n",
    "    for result in results:\n",
    "        print(result[\"link\"])\n",
    "    hit=hit+1"
   ]
  },
  {
   "cell_type": "code",
   "execution_count": null,
   "metadata": {},
   "outputs": [],
   "source": [
    "hit"
   ]
  },
  {
   "cell_type": "code",
   "execution_count": null,
   "metadata": {},
   "outputs": [],
   "source": [
    "service = build(\"customsearch\", \"v1\", developerKey=my_api_key)\n",
    "res = service.cse().list(q=\"gnani.ai\", cx=my_cse_id,start=11).execute()"
   ]
  },
  {
   "cell_type": "code",
   "execution_count": null,
   "metadata": {},
   "outputs": [],
   "source": [
    "while res is not None:\n",
    "    activities_doc = request.execute(http=http)\n",
    "\n",
    "  # Do something with the activities\n",
    "\n",
    "  request = activities.list_next(request, activities_doc)"
   ]
  },
  {
   "cell_type": "code",
   "execution_count": null,
   "metadata": {},
   "outputs": [],
   "source": [
    "for i in res['items']:\n",
    "    print(i['link'])"
   ]
  },
  {
   "cell_type": "code",
   "execution_count": null,
   "metadata": {},
   "outputs": [],
   "source": [
    "res"
   ]
  },
  {
   "cell_type": "code",
   "execution_count": null,
   "metadata": {},
   "outputs": [],
   "source": [
    "activities = service."
   ]
  },
  {
   "cell_type": "code",
   "execution_count": null,
   "metadata": {},
   "outputs": [],
   "source": [
    "res.keys:\n",
    "    "
   ]
  },
  {
   "cell_type": "code",
   "execution_count": null,
   "metadata": {},
   "outputs": [],
   "source": [
    "\n",
    "request = activities.list(userId='someUserId', collection='public')\n",
    "\n",
    "while request is not None:\n",
    "  activities_doc = request.execute(http=http)\n",
    "\n",
    "  # Do something with the activities\n",
    "\n",
    "  request = activities.list_next(request, activities_doc)"
   ]
  },
  {
   "cell_type": "code",
   "execution_count": null,
   "metadata": {
    "scrolled": true
   },
   "outputs": [],
   "source": [
    "from googleapiclient.discovery import build\n",
    "\n",
    "my_api_key = \"\n",
    "my_cse_id = \n",
    "\n",
    "def google_search(search_term, api_key, cse_id, **kwargs):\n",
    "    service = build(\"customsearch\", \"v1\", developerKey=api_key)\n",
    "    res = service.cse().list(q=search_term, cx=cse_id, **kwargs).execute()\n",
    "    \n",
    "    return res['items']\n",
    "starcount=11\n",
    "num=10\n",
    "for starcount in range(1,10):\n",
    "    results= google_search(\"gnani.ai\",my_api_key,my_cse_id,num=10,start=starcount) \n",
    "    starcount=starcount+10\n",
    "    print(\"\\n\\n\")\n",
    "    for result in results:\n",
    "        print(result[\"link\"])"
   ]
  },
  {
   "cell_type": "code",
   "execution_count": null,
   "metadata": {},
   "outputs": [],
   "source": [
    "res[]"
   ]
  },
  {
   "cell_type": "code",
   "execution_count": null,
   "metadata": {},
   "outputs": [],
   "source":
    "\n",
    "<script async src=\"https://cse.google.com/cse.js?cx=43d7c123e3c348763\"></script>\n",
    "<div class=\"gcse-search\"></div>"
   ]
  },
  {
   "cell_type": "markdown",
   "metadata": {},
   "source": [
    "# Another library"
   ]
  },
  {
   "cell_type": "code",
   "execution_count": null,
   "metadata": {},
   "outputs": [],
   "source": [
    "!pip uninstall google-search"
   ]
  },
  {
   "cell_type": "code",
   "execution_count": null,
   "metadata": {},
   "outputs": [],
   "source": [
    "from googlesearch.googlesearch import GoogleSearch\n",
    "response = GoogleSearch().search(\"gnani.ai\",num_results=10)\n",
    "for result in response.results:\n",
    "    print(\"Title: \" + result.title)\n",
    "    print(\"Content: \" + result.getText())"
   ]
  },
  {
   "cell_type": "code",
   "execution_count": null,
   "metadata": {},
   "outputs": [],
   "source": [
    "response.results"
   ]
  },
  {
   "cell_type": "code",
   "execution_count": null,
   "metadata": {},
   "outputs": [],
   "source": [
    "!pip uninstall gsearch"
   ]
  },
  {
   "cell_type": "code",
   "execution_count": null,
   "metadata": {},
   "outputs": [],
   "source": [
    "from gsearch.googlesearch import search\n"
   ]
  },
  {
   "cell_type": "code",
   "execution_count": null,
   "metadata": {},
   "outputs": [],
   "source": [
    "search('python', num_results=20) "
   ]
  },
  {
   "cell_type": "code",
   "execution_count": null,
   "metadata": {},
   "outputs": [],
   "source": []
  }
 ],
 "metadata": {
  "kernelspec": {
   "display_name": "Python 3",
   "language": "python",
   "name": "python3"
  },
  "language_info": {
   "codemirror_mode": {
    "name": "ipython",
    "version": 3
   },
   "file_extension": ".py",
   "mimetype": "text/x-python",
   "name": "python",
   "nbconvert_exporter": "python",
   "pygments_lexer": "ipython3",
   "version": "3.8.8"
  }
 },
 "nbformat": 4,
 "nbformat_minor": 4
}
